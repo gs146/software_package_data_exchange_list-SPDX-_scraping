{
 "cells": [
  {
   "cell_type": "code",
   "execution_count": 21,
   "metadata": {},
   "outputs": [],
   "source": [
    "import requests\n",
    "from bs4 import BeautifulSoup\n",
    "\n",
    "url = 'https://spdx.org/licenses/'\n",
    "\n",
    "page = requests.get(url).content\n",
    "# page = urllib2.urlopen(url).read()\n",
    "\n",
    "soup = BeautifulSoup(page)\n",
    "\n",
    "table = soup.find('table', class_='sortable')\n",
    "trs = table.find_all('tr')[1:]\n",
    "arr = list()\n",
    "for tr in trs:\n",
    "    tds = tr.find_all('td')\n",
    "    license_info = list()\n",
    "    for td in tds:\n",
    "        license_info.append(td.text)\n",
    "    arr.append(license_info)\n",
    "\n",
    "content = ''\n",
    "for info in arr:\n",
    "    full_name = info[0]\n",
    "    identifier = info[1].strip()\n",
    "    FSF_free_libre = None\n",
    "    if(info[2] == ''):\n",
    "        FSF_free_libre = 'NON-FSF Libre'\n",
    "    else:\n",
    "        FSF_free_libre = 'FSF Libre'\n",
    "    OSI_Approved = None\n",
    "    if(info[3] == ''):\n",
    "        OSI_Approved = 'NON-OSI Approved'\n",
    "    else:\n",
    "        OSI_Approved = 'OSI Approved'\n",
    "    full_text = 'Complete license text is available at https://spdx.org/licenses/' + identifier + '.html#licenseText'\n",
    "    content += (full_name + ',' + identifier + ',' + FSF_free_libre + ',' + OSI_Approved + ',,' + full_text + '\\n')\n",
    "\n",
    "with open('data.csv', 'wb') as writeFile:\n",
    "    writeFile.write(content.encode('utf-8'))\n",
    "# outFile = open('output.xml', 'wb')"
   ]
  },
  {
   "cell_type": "code",
   "execution_count": null,
   "metadata": {},
   "outputs": [],
   "source": []
  }
 ],
 "metadata": {
  "kernelspec": {
   "display_name": "Python 3",
   "language": "python",
   "name": "python3"
  },
  "language_info": {
   "codemirror_mode": {
    "name": "ipython",
    "version": 3
   },
   "file_extension": ".py",
   "mimetype": "text/x-python",
   "name": "python",
   "nbconvert_exporter": "python",
   "pygments_lexer": "ipython3",
   "version": "3.6.8"
  }
 },
 "nbformat": 4,
 "nbformat_minor": 2
}
