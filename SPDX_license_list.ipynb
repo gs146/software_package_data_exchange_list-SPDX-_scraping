{
 "cells": [
  {
   "cell_type": "code",
   "execution_count": 19,
   "metadata": {},
   "outputs": [
    {
     "ename": "PermissionError",
     "evalue": "[Errno 13] Permission denied: 'data.csv'",
     "output_type": "error",
     "traceback": [
      "\u001b[1;31m---------------------------------------------------------------------------\u001b[0m",
      "\u001b[1;31mPermissionError\u001b[0m                           Traceback (most recent call last)",
      "\u001b[1;32m<ipython-input-19-1707a75c84b7>\u001b[0m in \u001b[0;36m<module>\u001b[1;34m\u001b[0m\n\u001b[0;32m     36\u001b[0m     \u001b[0mcontent\u001b[0m \u001b[1;33m+=\u001b[0m \u001b[1;33m(\u001b[0m\u001b[0mfull_name\u001b[0m \u001b[1;33m+\u001b[0m \u001b[1;34m','\u001b[0m \u001b[1;33m+\u001b[0m \u001b[0midentifier\u001b[0m \u001b[1;33m+\u001b[0m \u001b[1;34m','\u001b[0m \u001b[1;33m+\u001b[0m \u001b[0mFSF_free_libre\u001b[0m \u001b[1;33m+\u001b[0m \u001b[1;34m','\u001b[0m \u001b[1;33m+\u001b[0m \u001b[0mOSI_Approved\u001b[0m \u001b[1;33m+\u001b[0m \u001b[1;34m',,'\u001b[0m \u001b[1;33m+\u001b[0m \u001b[0mfull_text\u001b[0m \u001b[1;33m+\u001b[0m \u001b[1;34m'\\n'\u001b[0m\u001b[1;33m)\u001b[0m\u001b[1;33m\u001b[0m\u001b[1;33m\u001b[0m\u001b[0m\n\u001b[0;32m     37\u001b[0m \u001b[1;33m\u001b[0m\u001b[0m\n\u001b[1;32m---> 38\u001b[1;33m \u001b[1;32mwith\u001b[0m \u001b[0mopen\u001b[0m\u001b[1;33m(\u001b[0m\u001b[1;34m'data.csv'\u001b[0m\u001b[1;33m,\u001b[0m \u001b[1;34m'wb'\u001b[0m\u001b[1;33m)\u001b[0m \u001b[1;32mas\u001b[0m \u001b[0mwriteFile\u001b[0m\u001b[1;33m:\u001b[0m\u001b[1;33m\u001b[0m\u001b[1;33m\u001b[0m\u001b[0m\n\u001b[0m\u001b[0;32m     39\u001b[0m     \u001b[0mwriteFile\u001b[0m\u001b[1;33m.\u001b[0m\u001b[0mwrite\u001b[0m\u001b[1;33m(\u001b[0m\u001b[0mcontent\u001b[0m\u001b[1;33m.\u001b[0m\u001b[0mencode\u001b[0m\u001b[1;33m(\u001b[0m\u001b[1;34m'utf-8'\u001b[0m\u001b[1;33m)\u001b[0m\u001b[1;33m)\u001b[0m\u001b[1;33m\u001b[0m\u001b[1;33m\u001b[0m\u001b[0m\n\u001b[0;32m     40\u001b[0m \u001b[1;31m# outFile = open('output.xml', 'wb')\u001b[0m\u001b[1;33m\u001b[0m\u001b[1;33m\u001b[0m\u001b[1;33m\u001b[0m\u001b[0m\n",
      "\u001b[1;31mPermissionError\u001b[0m: [Errno 13] Permission denied: 'data.csv'"
     ]
    }
   ],
   "source": [
    "import requests\n",
    "from bs4 import BeautifulSoup\n",
    "\n",
    "url = 'https://spdx.org/licenses/'\n",
    "\n",
    "page = requests.get(url).content\n",
    "# page = urllib2.urlopen(url).read()\n",
    "\n",
    "soup = BeautifulSoup(page)\n",
    "\n",
    "table = soup.find('table', class_='sortable')\n",
    "trs = table.find_all('tr')[1:]\n",
    "arr = list()\n",
    "for tr in trs:\n",
    "    tds = tr.find_all('td')\n",
    "    license_info = list()\n",
    "    for td in tds:\n",
    "        license_info.append(td.text)\n",
    "    arr.append(license_info)\n",
    "\n",
    "content = ''\n",
    "for info in arr:\n",
    "    full_name = info[0]\n",
    "    identifier = info[1].strip()\n",
    "    FSF_free_libre = None\n",
    "    if(info[2] == ''):\n",
    "        FSF_free_libre = 'NON-FSF Libre'\n",
    "    else:\n",
    "        FSF_free_libre = 'FSF Libre'\n",
    "    OSI_Approved = None\n",
    "    if(info[3] == ''):\n",
    "        OSI_Approved = 'NON-OSI Approved'\n",
    "    else:\n",
    "        OSI_Approved = 'OSI Approved'\n",
    "    full_text = 'Complete license text is available at https://spdx.org/licenses/' + identifier + '.html#licenseText'\n",
    "    content += (full_name + ',' + identifier + ',' + FSF_free_libre + ',' + OSI_Approved + ',,' + full_text + '\\n')\n",
    "\n",
    "with open('data.csv', 'wb') as writeFile:\n",
    "    writeFile.write(content.encode('utf-8'))\n",
    "# outFile = open('output.xml', 'wb')"
   ]
  },
  {
   "cell_type": "code",
   "execution_count": null,
   "metadata": {},
   "outputs": [],
   "source": []
  }
 ],
 "metadata": {
  "kernelspec": {
   "display_name": "Python 3",
   "language": "python",
   "name": "python3"
  },
  "language_info": {
   "codemirror_mode": {
    "name": "ipython",
    "version": 3
   },
   "file_extension": ".py",
   "mimetype": "text/x-python",
   "name": "python",
   "nbconvert_exporter": "python",
   "pygments_lexer": "ipython3",
   "version": "3.6.8"
  }
 },
 "nbformat": 4,
 "nbformat_minor": 2
}
